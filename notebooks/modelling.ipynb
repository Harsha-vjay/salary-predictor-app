{
 "cells": [
  {
   "cell_type": "code",
   "execution_count": 6,
   "id": "3346dfe5",
   "metadata": {},
   "outputs": [
    {
     "data": {
      "application/vnd.plotly.v1+json": {
       "config": {
        "plotlyServerURL": "https://plot.ly"
       },
       "data": [
        {
         "marker": {
          "color": [
           150000,
           132857,
           122891,
           112257,
           110516.5,
           107090,
           104000,
           101255.5,
           99195,
           99195
          ],
          "colorscale": [
           [
            0,
            "#440154"
           ],
           [
            0.1111111111111111,
            "#482878"
           ],
           [
            0.2222222222222222,
            "#3e4989"
           ],
           [
            0.3333333333333333,
            "#31688e"
           ],
           [
            0.4444444444444444,
            "#26828e"
           ],
           [
            0.5555555555555556,
            "#1f9e89"
           ],
           [
            0.6666666666666666,
            "#35b779"
           ],
           [
            0.7777777777777778,
            "#6ece58"
           ],
           [
            0.8888888888888888,
            "#b5de2b"
           ],
           [
            1,
            "#fde725"
           ]
          ],
          "line": {
           "color": "#2EC7FF",
           "width": 2
          }
         },
         "type": "bar",
         "x": [
          "United States of America",
          "Dominica",
          "Switzerland",
          "Israel",
          "Djibouti",
          "Luxembourg",
          "Nomadic",
          "Monaco",
          "Liechtenstein",
          "Swaziland"
         ],
         "y": [
          150000,
          132857,
          122891,
          112257,
          110516.5,
          107090,
          104000,
          101255.5,
          99195,
          99195
         ]
        }
       ],
       "layout": {
        "template": {
         "layout": {
          "font": {
           "color": "#F8F8FF",
           "family": "Montserrat, Arial, sans-serif"
          },
          "margin": {
           "b": 60,
           "l": 60,
           "r": 30,
           "t": 60
          },
          "paper_bgcolor": "#16181d",
          "plot_bgcolor": "rgba(10,18,30,0.95)",
          "title": {
           "font": {
            "color": "#F8F8FF",
            "size": 24
           }
          },
          "xaxis": {
           "gridcolor": "#22232a",
           "linecolor": "#444",
           "zerolinecolor": "#444"
          },
          "yaxis": {
           "gridcolor": "#22232a",
           "linecolor": "#444",
           "zerolinecolor": "#444"
          }
         }
        },
        "title": {
         "text": "Median Salary by Country (Top 10)"
        },
        "xaxis": {
         "title": {
          "text": "Country"
         }
        },
        "yaxis": {
         "title": {
          "text": "Median Salary (USD)"
         }
        }
       }
      }
     },
     "metadata": {},
     "output_type": "display_data"
    },
    {
     "data": {
      "application/vnd.plotly.v1+json": {
       "config": {
        "plotlyServerURL": "https://plot.ly"
       },
       "data": [
        {
         "line": {
          "color": "#2EC7FF",
          "width": 3
         },
         "marker": {
          "color": "#F8F8FF",
          "line": {
           "color": "#2EC7FF",
           "width": 2
          },
          "size": 7
         },
         "mode": "lines+markers",
         "type": "scatter",
         "x": [
          0,
          1,
          2,
          3,
          4,
          5,
          6,
          7,
          8,
          9,
          10,
          11,
          12,
          13,
          14,
          15,
          16,
          17,
          18,
          19,
          20,
          21,
          22,
          23,
          24,
          25,
          26,
          27,
          28,
          29,
          30,
          31,
          32,
          33,
          34,
          35,
          36,
          37,
          38,
          39,
          40,
          41,
          42,
          43,
          44,
          45,
          46,
          47,
          48,
          49,
          50,
          51
         ],
         "y": [
          36410,
          37241,
          41000,
          49072,
          55082,
          64254,
          69608,
          75052,
          80317,
          81787,
          83530,
          85672,
          89664.5,
          91026,
          91026,
          92343,
          100000,
          96381,
          102533,
          107090,
          100000,
          104262.5,
          108000,
          107090,
          109035.5,
          107769,
          111527,
          109525,
          115000,
          104500,
          110000,
          109000,
          107090,
          111724,
          119000,
          115028,
          116224,
          117700.5,
          120000,
          126753.5,
          111724,
          120000,
          139216,
          128630,
          137108,
          150000,
          100000,
          130500,
          149304.5,
          86000,
          130000,
          100000
         ]
        }
       ],
       "layout": {
        "template": {
         "layout": {
          "font": {
           "color": "#F8F8FF",
           "family": "Montserrat, Arial, sans-serif"
          },
          "margin": {
           "b": 60,
           "l": 60,
           "r": 30,
           "t": 60
          },
          "paper_bgcolor": "#16181d",
          "plot_bgcolor": "rgba(10,18,30,0.95)",
          "title": {
           "font": {
            "color": "#F8F8FF",
            "size": 24
           }
          },
          "xaxis": {
           "gridcolor": "#22232a",
           "linecolor": "#444",
           "zerolinecolor": "#444"
          },
          "yaxis": {
           "gridcolor": "#22232a",
           "linecolor": "#444",
           "zerolinecolor": "#444"
          }
         }
        },
        "title": {
         "text": "Median Salary vs. Years of Professional Coding Experience"
        },
        "xaxis": {
         "title": {
          "text": "Years of Experience"
         }
        },
        "yaxis": {
         "title": {
          "text": "Median Salary (USD)"
         }
        }
       }
      }
     },
     "metadata": {},
     "output_type": "display_data"
    }
   ],
   "source": [
    "import pandas as pd\n",
    "import plotly.graph_objects as go\n",
    "import plotly.io as pio\n",
    "\n",
    "# Set a custom dark theme resembling your slides\n",
    "pio.templates[\"custom_dark\"] = go.layout.Template(\n",
    "    layout=go.Layout(\n",
    "        font=dict(family=\"Montserrat, Arial, sans-serif\", color=\"#F8F8FF\"),\n",
    "        paper_bgcolor=\"#16181d\",  # deep black/blue\n",
    "        plot_bgcolor=\"rgba(10,18,30,0.95)\",\n",
    "        title=dict(font=dict(size=24, color=\"#F8F8FF\")),\n",
    "        xaxis=dict(gridcolor=\"#22232a\", zerolinecolor=\"#444\", linecolor=\"#444\"),\n",
    "        yaxis=dict(gridcolor=\"#22232a\", zerolinecolor=\"#444\", linecolor=\"#444\"),\n",
    "        margin=dict(l=60, r=30, t=60, b=60)\n",
    "    )\n",
    ")\n",
    "pio.templates.default = \"custom_dark\"\n",
    "\n",
    "# Load and clean data\n",
    "df = pd.read_csv('../data/survey_results_public.csv')\n",
    "df = df[['Country', 'YearsCodePro', 'ConvertedCompYearly']]\n",
    "df = df.dropna(subset=['Country', 'YearsCodePro', 'ConvertedCompYearly'])\n",
    "df = df[df['ConvertedCompYearly'] > 0]\n",
    "df['YearsCodePro'] = df['YearsCodePro'].replace({'Less than 1 year': 0, 'More than 50 years': 51})\n",
    "df['YearsCodePro'] = pd.to_numeric(df['YearsCodePro'], errors='coerce')\n",
    "df = df.dropna(subset=['YearsCodePro'])\n",
    "\n",
    "# Median Salary by Country (Top 10)\n",
    "country_median = df.groupby('Country')['ConvertedCompYearly'].median().sort_values(ascending=False).head(10)\n",
    "fig1 = go.Figure(go.Bar(\n",
    "    x=country_median.index,\n",
    "    y=country_median.values,\n",
    "    marker=dict(\n",
    "        color=country_median.values,\n",
    "        colorscale='Viridis',\n",
    "        line=dict(color=\"#2EC7FF\", width=2)\n",
    "    )\n",
    "))\n",
    "fig1.update_layout(\n",
    "    title=\"Median Salary by Country (Top 10)\",\n",
    "    xaxis_title=\"Country\",\n",
    "    yaxis_title=\"Median Salary (USD)\",\n",
    "    template=\"custom_dark\"\n",
    ")\n",
    "fig1.show()\n",
    "\n",
    "# Median Salary vs. Years of Experience\n",
    "exp_median = df.groupby('YearsCodePro')['ConvertedCompYearly'].median()\n",
    "fig2 = go.Figure(go.Scatter(\n",
    "    x=exp_median.index,\n",
    "    y=exp_median.values,\n",
    "    mode='lines+markers',\n",
    "    line=dict(color=\"#2EC7FF\", width=3),\n",
    "    marker=dict(size=7, color=\"#F8F8FF\", line=dict(width=2, color=\"#2EC7FF\"))\n",
    "))\n",
    "fig2.update_layout(\n",
    "    title=\"Median Salary vs. Years of Professional Coding Experience\",\n",
    "    xaxis_title=\"Years of Experience\",\n",
    "    yaxis_title=\"Median Salary (USD)\",\n",
    "    template=\"custom_dark\"\n",
    ")\n",
    "fig2.show()"
   ]
  },
  {
   "cell_type": "code",
   "execution_count": null,
   "id": "8a64c192",
   "metadata": {},
   "outputs": [
    {
     "name": "stdout",
     "output_type": "stream",
     "text": [
      "\n",
      "Random Forest: MAE = 28925.90, R2 = 0.52\n",
      "Linear Regression: MAE = 29684.40, R2 = 0.51\n",
      "XGBoost: MAE = 28265.38, R2 = 0.54\n",
      "\n",
      "All models and feature list saved in models/ directory.\n"
     ]
    }
   ],
   "source": [
    "import pandas as pd\n",
    "import numpy as np\n",
    "from sklearn.model_selection import train_test_split, GridSearchCV\n",
    "from sklearn.ensemble import RandomForestRegressor\n",
    "from sklearn.linear_model import LinearRegression\n",
    "from xgboost import XGBRegressor\n",
    "from sklearn.pipeline import Pipeline\n",
    "from sklearn.preprocessing import StandardScaler\n",
    "from sklearn.metrics import mean_absolute_error, r2_score\n",
    "import joblib\n",
    "import os\n",
    "\n",
    "# 1. Load Data\n",
    "df = pd.read_csv(\"../processed/cleaned_data.csv\")\n",
    "X = df.drop(\"ConvertedCompYearly\", axis=1)\n",
    "y = df[\"ConvertedCompYearly\"]\n",
    "\n",
    "# 2. Split Data\n",
    "X_train, X_test, y_train, y_test = train_test_split(X, y, test_size=0.2, random_state=42)\n",
    "\n",
    "# 3. Define Pipelines\n",
    "pipeline_rf = Pipeline([\n",
    "    ('scaler', StandardScaler()),\n",
    "    ('rf', RandomForestRegressor(n_estimators=100, random_state=42))\n",
    "])\n",
    "\n",
    "pipeline_lr = Pipeline([\n",
    "    ('scaler', StandardScaler()),\n",
    "    ('lr', LinearRegression())\n",
    "])\n",
    "\n",
    "pipeline_xgb = Pipeline([\n",
    "    ('scaler', StandardScaler()),\n",
    "    ('xgb', XGBRegressor(n_estimators=100, random_state=42, verbosity=0))\n",
    "])\n",
    "\n",
    "# 4. Train Models\n",
    "pipeline_rf.fit(X_train, y_train)\n",
    "pipeline_lr.fit(X_train, y_train)\n",
    "pipeline_xgb.fit(X_train, y_train)\n",
    "\n",
    "# 5. Evaluate Models\n",
    "def eval_model(pipe, X_test, y_test):\n",
    "    y_pred = pipe.predict(X_test)\n",
    "    mae = mean_absolute_error(y_test, y_pred)\n",
    "    r2 = r2_score(y_test, y_pred)\n",
    "    return mae, r2\n",
    "\n",
    "mae_rf, r2_rf = eval_model(pipeline_rf, X_test, y_test)\n",
    "mae_lr, r2_lr = eval_model(pipeline_lr, X_test, y_test)\n",
    "mae_xgb, r2_xgb = eval_model(pipeline_xgb, X_test, y_test)\n",
    "\n",
    "print(\"\\nRandom Forest: MAE = {:.2f}, R2 = {:.2f}\".format(mae_rf, r2_rf))\n",
    "print(\"Linear Regression: MAE = {:.2f}, R2 = {:.2f}\".format(mae_lr, r2_lr))\n",
    "print(\"XGBoost: MAE = {:.2f}, R2 = {:.2f}\\n\".format(mae_xgb, r2_xgb))\n",
    "\n",
    "# 6. Save Pipelines\n",
    "os.makedirs(\"models\", exist_ok=True)\n",
    "joblib.dump(pipeline_rf, \"../models/rf_pipeline.pkl\")\n",
    "joblib.dump(pipeline_lr, \"../models/lr_pipeline.pkl\")\n",
    "joblib.dump(pipeline_xgb, \"../models/xgb_pipeline.pkl\")\n",
    "\n",
    "# 7. Save Feature Columns (for inference in app)\n",
    "features = list(X.columns)\n",
    "joblib.dump(features, \"../models/features.pkl\")\n",
    "\n",
    "print(\"All models and feature list saved in models/ directory.\")\n",
    "\n",
    "# 8. (Optional) Save evaluation results\n",
    "results = pd.DataFrame({\n",
    "    'Model': ['Random Forest', 'Linear Regression', 'XGBoost'],\n",
    "    'MAE': [mae_rf, mae_lr, mae_xgb],\n",
    "    'R2 Score': [r2_rf, r2_lr, r2_xgb]\n",
    "})\n",
    "results.to_csv('..processed/model_results.csv', index=False)"
   ]
  }
 ],
 "metadata": {
  "kernelspec": {
   "display_name": "base",
   "language": "python",
   "name": "python3"
  },
  "language_info": {
   "codemirror_mode": {
    "name": "ipython",
    "version": 3
   },
   "file_extension": ".py",
   "mimetype": "text/x-python",
   "name": "python",
   "nbconvert_exporter": "python",
   "pygments_lexer": "ipython3",
   "version": "3.12.7"
  }
 },
 "nbformat": 4,
 "nbformat_minor": 5
}
